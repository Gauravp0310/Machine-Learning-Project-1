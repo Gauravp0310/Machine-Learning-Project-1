{
 "cells": [
  {
   "cell_type": "markdown",
   "id": "976c1588-0bdd-4a9c-80b2-cb1890163432",
   "metadata": {},
   "source": [
    "## PROJECT :\n",
    "- The main aim to build the model which predict the profit based on R&D Spend,Administration,Marketing Spend."
   ]
  },
  {
   "cell_type": "markdown",
   "id": "bd3438ff-0cf5-47a5-a6b6-d0bc66e276ac",
   "metadata": {},
   "source": [
    "## About the 50 startups dataset\n",
    "- This particular dataset holds data from 50 startups in New York, California, and Florida. The features in this dataset are R&D spending, Administration Spending, Marketing Spending, and location features, while the target variable is: Profit.\n",
    "\n",
    "1. R&D spending: The amount which startups are spending on Research and development.\n",
    "2. Administration spending: The amount which startups are spending on the Admin panel.\n",
    "3. Marketing spending: The amount which startups are spending on marketing strategies.\n",
    "4. State: To which state that particular startup belongs.\n",
    "5. Profit: How much profit that particular startup is making.\n"
   ]
  },
  {
   "cell_type": "markdown",
   "id": "d103d674-f3a1-4237-8248-9b514b94f719",
   "metadata": {},
   "source": [
    "## In this project we use some python libraries.                                                                                                       \n",
    "  **1.Pandas :**                                                                                                                                       \n",
    "  **2.Numpy :**                                                                                                                                       \n",
    "  **3.Matplotlib :**                                                                                                                                   \n",
    "  **4.Seaborn :**                                                                                                                                     \n",
    "- **With the help of these liabraries we visualized our dataset and perform below operations** "
   ]
  },
  {
   "cell_type": "markdown",
   "id": "e6b7ba0b-0ee6-4d49-911f-9d2ed3c6647e",
   "metadata": {},
   "source": [
    "<h2 style=\"color:red\" >  Regression Analysis :</h2>"
   ]
  },
  {
   "cell_type": "markdown",
   "id": "1b504cfd-d2fc-4c45-9c13-986541bf4f50",
   "metadata": {},
   "source": [
    "- Import the libraries.\n",
    "- Read the file.\n",
    "- Perform the basic operations.\n"
   ]
  },
  {
   "cell_type": "code",
   "execution_count": 1,
   "id": "138e3dc6-02db-4b7a-9edd-97c13c929bc2",
   "metadata": {},
   "outputs": [],
   "source": [
    "# import all libraries\n",
    "import matplotlib.pyplot as plt\n",
    "import seaborn as sns\n",
    "import numpy as np\n",
    "import pandas as pd\n",
    "import sklearn \n",
    "%matplotlib inline"
   ]
  },
  {
   "cell_type": "code",
   "execution_count": 2,
   "id": "4bc753a3-8825-4493-bac8-9c62133a05f0",
   "metadata": {},
   "outputs": [],
   "source": [
    "# read the file\n",
    "df=pd.read_csv('50_Startups.csv')"
   ]
  },
  {
   "cell_type": "code",
   "execution_count": 3,
   "id": "299f0971-d1fd-4608-ba32-5f11df56c4e0",
   "metadata": {},
   "outputs": [
    {
     "data": {
      "text/html": [
       "<div>\n",
       "<style scoped>\n",
       "    .dataframe tbody tr th:only-of-type {\n",
       "        vertical-align: middle;\n",
       "    }\n",
       "\n",
       "    .dataframe tbody tr th {\n",
       "        vertical-align: top;\n",
       "    }\n",
       "\n",
       "    .dataframe thead th {\n",
       "        text-align: right;\n",
       "    }\n",
       "</style>\n",
       "<table border=\"1\" class=\"dataframe\">\n",
       "  <thead>\n",
       "    <tr style=\"text-align: right;\">\n",
       "      <th></th>\n",
       "      <th>R&amp;D Spend</th>\n",
       "      <th>Administration</th>\n",
       "      <th>Marketing Spend</th>\n",
       "      <th>State</th>\n",
       "      <th>Profit</th>\n",
       "    </tr>\n",
       "  </thead>\n",
       "  <tbody>\n",
       "    <tr>\n",
       "      <th>0</th>\n",
       "      <td>165349.20</td>\n",
       "      <td>136897.80</td>\n",
       "      <td>471784.10</td>\n",
       "      <td>New York</td>\n",
       "      <td>192261.83</td>\n",
       "    </tr>\n",
       "    <tr>\n",
       "      <th>1</th>\n",
       "      <td>162597.70</td>\n",
       "      <td>151377.59</td>\n",
       "      <td>443898.53</td>\n",
       "      <td>California</td>\n",
       "      <td>191792.06</td>\n",
       "    </tr>\n",
       "    <tr>\n",
       "      <th>2</th>\n",
       "      <td>153441.51</td>\n",
       "      <td>101145.55</td>\n",
       "      <td>407934.54</td>\n",
       "      <td>Florida</td>\n",
       "      <td>191050.39</td>\n",
       "    </tr>\n",
       "    <tr>\n",
       "      <th>3</th>\n",
       "      <td>144372.41</td>\n",
       "      <td>118671.85</td>\n",
       "      <td>383199.62</td>\n",
       "      <td>New York</td>\n",
       "      <td>182901.99</td>\n",
       "    </tr>\n",
       "    <tr>\n",
       "      <th>4</th>\n",
       "      <td>142107.34</td>\n",
       "      <td>91391.77</td>\n",
       "      <td>366168.42</td>\n",
       "      <td>Florida</td>\n",
       "      <td>166187.94</td>\n",
       "    </tr>\n",
       "  </tbody>\n",
       "</table>\n",
       "</div>"
      ],
      "text/plain": [
       "   R&D Spend  Administration  Marketing Spend       State     Profit\n",
       "0  165349.20       136897.80        471784.10    New York  192261.83\n",
       "1  162597.70       151377.59        443898.53  California  191792.06\n",
       "2  153441.51       101145.55        407934.54     Florida  191050.39\n",
       "3  144372.41       118671.85        383199.62    New York  182901.99\n",
       "4  142107.34        91391.77        366168.42     Florida  166187.94"
      ]
     },
     "execution_count": 3,
     "metadata": {},
     "output_type": "execute_result"
    }
   ],
   "source": [
    "# top five row\n",
    "df.head()"
   ]
  },
  {
   "cell_type": "code",
   "execution_count": 4,
   "id": "f0be846f-55d1-47b2-a336-fbbaa8cbe41a",
   "metadata": {},
   "outputs": [
    {
     "data": {
      "text/html": [
       "<div>\n",
       "<style scoped>\n",
       "    .dataframe tbody tr th:only-of-type {\n",
       "        vertical-align: middle;\n",
       "    }\n",
       "\n",
       "    .dataframe tbody tr th {\n",
       "        vertical-align: top;\n",
       "    }\n",
       "\n",
       "    .dataframe thead th {\n",
       "        text-align: right;\n",
       "    }\n",
       "</style>\n",
       "<table border=\"1\" class=\"dataframe\">\n",
       "  <thead>\n",
       "    <tr style=\"text-align: right;\">\n",
       "      <th></th>\n",
       "      <th>R&amp;D Spend</th>\n",
       "      <th>Administration</th>\n",
       "      <th>Marketing Spend</th>\n",
       "      <th>State</th>\n",
       "      <th>Profit</th>\n",
       "    </tr>\n",
       "  </thead>\n",
       "  <tbody>\n",
       "    <tr>\n",
       "      <th>45</th>\n",
       "      <td>1000.23</td>\n",
       "      <td>124153.04</td>\n",
       "      <td>1903.93</td>\n",
       "      <td>New York</td>\n",
       "      <td>64926.08</td>\n",
       "    </tr>\n",
       "    <tr>\n",
       "      <th>46</th>\n",
       "      <td>1315.46</td>\n",
       "      <td>115816.21</td>\n",
       "      <td>297114.46</td>\n",
       "      <td>Florida</td>\n",
       "      <td>49490.75</td>\n",
       "    </tr>\n",
       "    <tr>\n",
       "      <th>47</th>\n",
       "      <td>0.00</td>\n",
       "      <td>135426.92</td>\n",
       "      <td>0.00</td>\n",
       "      <td>California</td>\n",
       "      <td>42559.73</td>\n",
       "    </tr>\n",
       "    <tr>\n",
       "      <th>48</th>\n",
       "      <td>542.05</td>\n",
       "      <td>51743.15</td>\n",
       "      <td>0.00</td>\n",
       "      <td>New York</td>\n",
       "      <td>35673.41</td>\n",
       "    </tr>\n",
       "    <tr>\n",
       "      <th>49</th>\n",
       "      <td>0.00</td>\n",
       "      <td>116983.80</td>\n",
       "      <td>45173.06</td>\n",
       "      <td>California</td>\n",
       "      <td>14681.40</td>\n",
       "    </tr>\n",
       "  </tbody>\n",
       "</table>\n",
       "</div>"
      ],
      "text/plain": [
       "    R&D Spend  Administration  Marketing Spend       State    Profit\n",
       "45    1000.23       124153.04          1903.93    New York  64926.08\n",
       "46    1315.46       115816.21        297114.46     Florida  49490.75\n",
       "47       0.00       135426.92             0.00  California  42559.73\n",
       "48     542.05        51743.15             0.00    New York  35673.41\n",
       "49       0.00       116983.80         45173.06  California  14681.40"
      ]
     },
     "execution_count": 4,
     "metadata": {},
     "output_type": "execute_result"
    }
   ],
   "source": [
    "# Last five row\n",
    "df.tail()"
   ]
  },
  {
   "cell_type": "code",
   "execution_count": 5,
   "id": "ef8878b3-fa41-4768-afdf-ebf49166fd7c",
   "metadata": {},
   "outputs": [
    {
     "name": "stdout",
     "output_type": "stream",
     "text": [
      "<class 'pandas.core.frame.DataFrame'>\n",
      "RangeIndex: 50 entries, 0 to 49\n",
      "Data columns (total 5 columns):\n",
      " #   Column           Non-Null Count  Dtype  \n",
      "---  ------           --------------  -----  \n",
      " 0   R&D Spend        50 non-null     float64\n",
      " 1   Administration   50 non-null     float64\n",
      " 2   Marketing Spend  50 non-null     float64\n",
      " 3   State            50 non-null     object \n",
      " 4   Profit           50 non-null     float64\n",
      "dtypes: float64(4), object(1)\n",
      "memory usage: 2.1+ KB\n"
     ]
    }
   ],
   "source": [
    "# All information about Data\n",
    "df.info()"
   ]
  },
  {
   "cell_type": "markdown",
   "id": "56e3a844-939e-4bb2-aeda-e7c9ddcdd86e",
   "metadata": {},
   "source": [
    "- This dataset has total 50 row and 5 column.\n",
    "- Most of the column has numeric datatype i.e. float64.\n",
    "- State column has object datatype."
   ]
  },
  {
   "cell_type": "code",
   "execution_count": 6,
   "id": "ac910863-cd59-4b5d-8083-a38ed1400a88",
   "metadata": {},
   "outputs": [
    {
     "data": {
      "text/html": [
       "<div>\n",
       "<style scoped>\n",
       "    .dataframe tbody tr th:only-of-type {\n",
       "        vertical-align: middle;\n",
       "    }\n",
       "\n",
       "    .dataframe tbody tr th {\n",
       "        vertical-align: top;\n",
       "    }\n",
       "\n",
       "    .dataframe thead th {\n",
       "        text-align: right;\n",
       "    }\n",
       "</style>\n",
       "<table border=\"1\" class=\"dataframe\">\n",
       "  <thead>\n",
       "    <tr style=\"text-align: right;\">\n",
       "      <th></th>\n",
       "      <th>R&amp;D Spend</th>\n",
       "      <th>Administration</th>\n",
       "      <th>Marketing Spend</th>\n",
       "      <th>Profit</th>\n",
       "    </tr>\n",
       "  </thead>\n",
       "  <tbody>\n",
       "    <tr>\n",
       "      <th>count</th>\n",
       "      <td>50.000000</td>\n",
       "      <td>50.000000</td>\n",
       "      <td>50.000000</td>\n",
       "      <td>50.000000</td>\n",
       "    </tr>\n",
       "    <tr>\n",
       "      <th>mean</th>\n",
       "      <td>73721.615600</td>\n",
       "      <td>121344.639600</td>\n",
       "      <td>211025.097800</td>\n",
       "      <td>112012.639200</td>\n",
       "    </tr>\n",
       "    <tr>\n",
       "      <th>std</th>\n",
       "      <td>45902.256482</td>\n",
       "      <td>28017.802755</td>\n",
       "      <td>122290.310726</td>\n",
       "      <td>40306.180338</td>\n",
       "    </tr>\n",
       "    <tr>\n",
       "      <th>min</th>\n",
       "      <td>0.000000</td>\n",
       "      <td>51283.140000</td>\n",
       "      <td>0.000000</td>\n",
       "      <td>14681.400000</td>\n",
       "    </tr>\n",
       "    <tr>\n",
       "      <th>25%</th>\n",
       "      <td>39936.370000</td>\n",
       "      <td>103730.875000</td>\n",
       "      <td>129300.132500</td>\n",
       "      <td>90138.902500</td>\n",
       "    </tr>\n",
       "    <tr>\n",
       "      <th>50%</th>\n",
       "      <td>73051.080000</td>\n",
       "      <td>122699.795000</td>\n",
       "      <td>212716.240000</td>\n",
       "      <td>107978.190000</td>\n",
       "    </tr>\n",
       "    <tr>\n",
       "      <th>75%</th>\n",
       "      <td>101602.800000</td>\n",
       "      <td>144842.180000</td>\n",
       "      <td>299469.085000</td>\n",
       "      <td>139765.977500</td>\n",
       "    </tr>\n",
       "    <tr>\n",
       "      <th>max</th>\n",
       "      <td>165349.200000</td>\n",
       "      <td>182645.560000</td>\n",
       "      <td>471784.100000</td>\n",
       "      <td>192261.830000</td>\n",
       "    </tr>\n",
       "  </tbody>\n",
       "</table>\n",
       "</div>"
      ],
      "text/plain": [
       "           R&D Spend  Administration  Marketing Spend         Profit\n",
       "count      50.000000       50.000000        50.000000      50.000000\n",
       "mean    73721.615600   121344.639600    211025.097800  112012.639200\n",
       "std     45902.256482    28017.802755    122290.310726   40306.180338\n",
       "min         0.000000    51283.140000         0.000000   14681.400000\n",
       "25%     39936.370000   103730.875000    129300.132500   90138.902500\n",
       "50%     73051.080000   122699.795000    212716.240000  107978.190000\n",
       "75%    101602.800000   144842.180000    299469.085000  139765.977500\n",
       "max    165349.200000   182645.560000    471784.100000  192261.830000"
      ]
     },
     "execution_count": 6,
     "metadata": {},
     "output_type": "execute_result"
    }
   ],
   "source": [
    "# Description of data\n",
    "df.describe()"
   ]
  },
  {
   "cell_type": "markdown",
   "id": "9220c5e3-7250-450e-83f9-2520e556b985",
   "metadata": {},
   "source": [
    "- There are 50 sample present in data."
   ]
  },
  {
   "cell_type": "code",
   "execution_count": 7,
   "id": "06a9615c-047c-4cf2-ae12-275d9666ef18",
   "metadata": {},
   "outputs": [
    {
     "data": {
      "text/plain": [
       "R&D Spend          0\n",
       "Administration     0\n",
       "Marketing Spend    0\n",
       "State              0\n",
       "Profit             0\n",
       "dtype: int64"
      ]
     },
     "execution_count": 7,
     "metadata": {},
     "output_type": "execute_result"
    }
   ],
   "source": [
    "# checking for the missing Values\n",
    "df.isna().sum()"
   ]
  },
  {
   "cell_type": "code",
   "execution_count": 8,
   "id": "cf57b35b-a5c1-43c0-a816-9cd557f65e30",
   "metadata": {},
   "outputs": [
    {
     "data": {
      "text/plain": [
       "<AxesSubplot:>"
      ]
     },
     "execution_count": 8,
     "metadata": {},
     "output_type": "execute_result"
    },
    {
     "data": {
      "image/png": "[encoded data removed]",
      "text/plain": [
       "<Figure size 432x288 with 1 Axes>"
      ]
     },
     "metadata": {
      "needs_background": "light"
     },
     "output_type": "display_data"
    }
   ],
   "source": [
    "sns.heatmap(df.isnull(),yticklabels=False, cbar=False, cmap=\"viridis\")"
   ]
  },
  {
   "cell_type": "markdown",
   "id": "83cc3409-2e44-4c28-b793-af9dd7d9fb32",
   "metadata": {},
   "source": [
    "- **There is no missing values present in our dataset so no need to handle it.**\n",
    "- **But if is there any missing value are present is data set so we handle that values by using fillna         method.**\n",
    "- **Handling that values with mean,median,ffill,bfill etc.**"
   ]
  },
  {
   "cell_type": "markdown",
   "id": "0f2ada1f-c800-4055-a310-dc9a49ae92af",
   "metadata": {},
   "source": [
    "### Exploratory Data Analysis :"
   ]
  },
  {
   "cell_type": "code",
   "execution_count": 9,
   "id": "44c5d48d-701a-4e2f-aae1-679b2e5a37a3",
   "metadata": {},
   "outputs": [
    {
     "data": {
      "text/html": [
       "<div>\n",
       "<style scoped>\n",
       "    .dataframe tbody tr th:only-of-type {\n",
       "        vertical-align: middle;\n",
       "    }\n",
       "\n",
       "    .dataframe tbody tr th {\n",
       "        vertical-align: top;\n",
       "    }\n",
       "\n",
       "    .dataframe thead th {\n",
       "        text-align: right;\n",
       "    }\n",
       "</style>\n",
       "<table border=\"1\" class=\"dataframe\">\n",
       "  <thead>\n",
       "    <tr style=\"text-align: right;\">\n",
       "      <th></th>\n",
       "      <th>R&amp;D Spend</th>\n",
       "      <th>Administration</th>\n",
       "      <th>Marketing Spend</th>\n",
       "      <th>Profit</th>\n",
       "    </tr>\n",
       "  </thead>\n",
       "  <tbody>\n",
       "    <tr>\n",
       "      <th>R&amp;D Spend</th>\n",
       "      <td>1.000000</td>\n",
       "      <td>0.241955</td>\n",
       "      <td>0.724248</td>\n",
       "      <td>0.972900</td>\n",
       "    </tr>\n",
       "    <tr>\n",
       "      <th>Administration</th>\n",
       "      <td>0.241955</td>\n",
       "      <td>1.000000</td>\n",
       "      <td>-0.032154</td>\n",
       "      <td>0.200717</td>\n",
       "    </tr>\n",
       "    <tr>\n",
       "      <th>Marketing Spend</th>\n",
       "      <td>0.724248</td>\n",
       "      <td>-0.032154</td>\n",
       "      <td>1.000000</td>\n",
       "      <td>0.747766</td>\n",
       "    </tr>\n",
       "    <tr>\n",
       "      <th>Profit</th>\n",
       "      <td>0.972900</td>\n",
       "      <td>0.200717</td>\n",
       "      <td>0.747766</td>\n",
       "      <td>1.000000</td>\n",
       "    </tr>\n",
       "  </tbody>\n",
       "</table>\n",
       "</div>"
      ],
      "text/plain": [
       "                 R&D Spend  Administration  Marketing Spend    Profit\n",
       "R&D Spend         1.000000        0.241955         0.724248  0.972900\n",
       "Administration    0.241955        1.000000        -0.032154  0.200717\n",
       "Marketing Spend   0.724248       -0.032154         1.000000  0.747766\n",
       "Profit            0.972900        0.200717         0.747766  1.000000"
      ]
     },
     "execution_count": 9,
     "metadata": {},
     "output_type": "execute_result"
    }
   ],
   "source": [
    "# check the correlation\n",
    "df.corr()"
   ]
  },
  {
   "cell_type": "markdown",
   "id": "37d6206b-a534-457d-8a31-a413f766b77e",
   "metadata": {},
   "source": [
    "- We can see that all three columns have a direct relationship with the profit, which is our target variable."
   ]
  },
  {
   "cell_type": "markdown",
   "id": "569781a0-a574-4611-af41-5badf04f5af4",
   "metadata": {},
   "source": [
    "**How Profit are related to other variable.**"
   ]
  },
  {
   "cell_type": "code",
   "execution_count": 10,
   "id": "b46e06a2-593e-48d9-8be0-255e9ad75e22",
   "metadata": {},
   "outputs": [
    {
     "data": {
      "image/png": "[encoded data removed]",
      "text/plain": [
       "<Figure size 576x576 with 20 Axes>"
      ]
     },
     "metadata": {},
     "output_type": "display_data"
    }
   ],
   "source": [
    "#pairplot\n",
    "sns.set_style(\"whitegrid\");\n",
    "sns.pairplot(df,height=2);\n",
    "plt.show()"
   ]
  },
  {
   "cell_type": "markdown",
   "id": "5cae7078-dfa7-4b24-9f6e-81d8b5e54ab4",
   "metadata": {},
   "source": [
    "**Conclusion -** R&D SPEND is strongly, positively, linearly correlated with the target variable. But the Administration feature seems to be             uncorrelated"
   ]
  },
  {
   "cell_type": "markdown",
   "id": "ee49ec6a-c6a1-4162-b03e-960a4dd39a20",
   "metadata": {},
   "source": [
    "- A pair plot allows us to see both distribution of single variables and relationship between two variables."
   ]
  },
  {
   "cell_type": "markdown",
   "id": "b37aea00-bd85-4570-aa1d-3566e17f2526",
   "metadata": {},
   "source": [
    "**As seen above the pair plot can be divided into three parts**\n",
    "- The diagonal plot which showcase the histogram It  allow us to see the probability distribution of a         single variable.\n",
    "- Upper triangle and lower triangle which shows us the scatter plot.\n",
    "- The scatter plot shows us the relationship between the features"
   ]
  },
  {
   "cell_type": "code",
   "execution_count": 11,
   "id": "05bc5883-1640-4f96-bbd6-278f9e7c3873",
   "metadata": {},
   "outputs": [
    {
     "data": {
      "image/png": "[encoded data removed]",
      "text/plain": [
       "<Figure size 864x576 with 2 Axes>"
      ]
     },
     "metadata": {},
     "output_type": "display_data"
    }
   ],
   "source": [
    "# Heatmap\n",
    "plt.figure(figsize=(12,8))\n",
    "sns.heatmap(df.corr(),annot=True,fmt=\".2f\")\n",
    "plt.show()"
   ]
  },
  {
   "cell_type": "markdown",
   "id": "b12f09dc-458e-42e7-903c-ca5fb80dd7f7",
   "metadata": {},
   "source": [
    "**Conclusion -** R&D spend to be most correlated with profit as 0.97 is very close to 1."
   ]
  },
  {
   "cell_type": "markdown",
   "id": "1a68a44e-d45f-4d87-baaa-5a8bc0ef7799",
   "metadata": {},
   "source": [
    "<h2 style=\"color:blue\"> Data preprocessing and cleaning :</h2>"
   ]
  },
  {
   "cell_type": "code",
   "execution_count": 12,
   "id": "214623e4-c0c4-4cb8-80a5-53820c7ffa7f",
   "metadata": {},
   "outputs": [
    {
     "data": {
      "text/plain": [
       "R&D Spend          49\n",
       "Administration     50\n",
       "Marketing Spend    48\n",
       "State               3\n",
       "Profit             50\n",
       "dtype: int64"
      ]
     },
     "execution_count": 12,
     "metadata": {},
     "output_type": "execute_result"
    }
   ],
   "source": [
    "# checking for total number of unique values\n",
    "df.nunique()"
   ]
  },
  {
   "cell_type": "code",
   "execution_count": 13,
   "id": "5ad3f201-0ce3-4964-9978-b0593fcaded7",
   "metadata": {},
   "outputs": [
    {
     "data": {
      "text/plain": [
       "0"
      ]
     },
     "execution_count": 13,
     "metadata": {},
     "output_type": "execute_result"
    }
   ],
   "source": [
    "# checking for duplicate data\n",
    "df.duplicated().sum()"
   ]
  },
  {
   "cell_type": "code",
   "execution_count": 14,
   "id": "36d9974d-1727-440c-8002-75d39bffca75",
   "metadata": {},
   "outputs": [],
   "source": [
    "# converting all features dtype float64 into the int32\n",
    "df[['R&D Spend','Administration','Marketing Spend','Profit']]=df[['R&D Spend','Administration','Marketing Spend','Profit']].astype(int)"
   ]
  },
  {
   "cell_type": "code",
   "execution_count": 15,
   "id": "9d51c5de-dafa-43d1-92e8-bbf52c5f7881",
   "metadata": {},
   "outputs": [
    {
     "name": "stdout",
     "output_type": "stream",
     "text": [
      "<class 'pandas.core.frame.DataFrame'>\n",
      "RangeIndex: 50 entries, 0 to 49\n",
      "Data columns (total 5 columns):\n",
      " #   Column           Non-Null Count  Dtype \n",
      "---  ------           --------------  ----- \n",
      " 0   R&D Spend        50 non-null     int32 \n",
      " 1   Administration   50 non-null     int32 \n",
      " 2   Marketing Spend  50 non-null     int32 \n",
      " 3   State            50 non-null     object\n",
      " 4   Profit           50 non-null     int32 \n",
      "dtypes: int32(4), object(1)\n",
      "memory usage: 1.3+ KB\n"
     ]
    }
   ],
   "source": [
    "df.info()"
   ]
  },
  {
   "cell_type": "markdown",
   "id": "5eacc662-5f44-46b2-9e58-af295aa78e35",
   "metadata": {},
   "source": [
    "**Handling the Outlier**"
   ]
  },
  {
   "cell_type": "code",
   "execution_count": 16,
   "id": "11322237-9110-4554-9689-213e38f21500",
   "metadata": {},
   "outputs": [
    {
     "data": {
      "text/plain": [
       "<AxesSubplot:xlabel='Profit'>"
      ]
     },
     "execution_count": 16,
     "metadata": {},
     "output_type": "execute_result"
    },
    {
     "data": {
      "image/png": "[encoded data removed]",
      "text/plain": [
       "<Figure size 1080x288 with 3 Axes>"
      ]
     },
     "metadata": {},
     "output_type": "display_data"
    },
    {
     "data": {
      "image/png": "[encoded data removed]",
      "text/plain": [
       "<Figure size 1080x288 with 1 Axes>"
      ]
     },
     "metadata": {},
     "output_type": "display_data"
    }
   ],
   "source": [
    "#so plotting box plot : \n",
    "plt.figure(figsize=(15,4))\n",
    "plt.subplot(1,4,1)\n",
    "sns.boxplot(x='R&D Spend',data=df,orient='h')\n",
    "\n",
    "plt.subplot(1,4,2)\n",
    "sns.boxplot(x='Administration',data=df,orient='h')\n",
    "plt.subplot(1,4,3)\n",
    "sns.boxplot(x='Marketing Spend',data=df,orient='h')\n",
    "\n",
    "plt.figure(figsize=(15,4))\n",
    "plt.subplot(1,3,1)\n",
    "\n",
    "sns.boxplot(x='Profit',data=df,orient='h')"
   ]
  },
  {
   "cell_type": "markdown",
   "id": "60bf1644-5096-48fd-b2c1-3df41c1e0000",
   "metadata": {},
   "source": [
    "- While looking at the boxplot we can see the outliers in the profit(target variable), but the amount of data is not much (just 50 entries) so it       won’t create much negative impact."
   ]
  },
  {
   "cell_type": "code",
   "execution_count": 17,
   "id": "65e9d0a0-c11e-4339-8f54-16149cadccfb",
   "metadata": {},
   "outputs": [
    {
     "data": {
      "image/png": "[encoded data removed]",
      "text/plain": [
       "<Figure size 432x288 with 1 Axes>"
      ]
     },
     "metadata": {},
     "output_type": "display_data"
    }
   ],
   "source": [
    "# State-wise outliers detection\n",
    "sns.boxplot(x = 'State', y = 'Profit', data = df)\n",
    "plt.show()"
   ]
  },
  {
   "cell_type": "markdown",
   "id": "4267cc27-048e-4f59-b095-067f311051b1",
   "metadata": {},
   "source": [
    "-  All outliers presented are in New York.\n",
    "-  The startups located in California we can see the maximum profits and maximum loss."
   ]
  },
  {
   "cell_type": "markdown",
   "id": "1eb2b51b-c173-4183-a4b3-e628d8cc1a2c",
   "metadata": {},
   "source": [
    "**Handling the categorical Value :**"
   ]
  },
  {
   "cell_type": "markdown",
   "id": "889b087a-cc32-413f-9ea8-60f3cde1fd00",
   "metadata": {},
   "source": [
    "- In above dataset, we can clearly see that there are five variables, in which four variables are continuous   and one is categorical variable.\n",
    "\n",
    "- categorical variables which are not suitable to apply directly for fitting the model. So we need to encode   this variable.\n",
    "\n",
    "- By using **Label Encoding** we can handel the Categorical value."
   ]
  },
  {
   "cell_type": "code",
   "execution_count": 18,
   "id": "2c996f8f-b4cd-4d00-b9ab-c0f59a6ca942",
   "metadata": {},
   "outputs": [],
   "source": [
    "from sklearn import preprocessing   \n",
    "obj = preprocessing.LabelEncoder()  "
   ]
  },
  {
   "cell_type": "code",
   "execution_count": 19,
   "id": "fca39baa-5404-4053-aeb1-5c787bfd98b4",
   "metadata": {},
   "outputs": [
    {
     "data": {
      "text/plain": [
       "array([2, 0, 1])"
      ]
     },
     "execution_count": 19,
     "metadata": {},
     "output_type": "execute_result"
    }
   ],
   "source": [
    "df[ 'State' ]= obj.fit_transform(df[ 'State' ])   \n",
    "(df[ 'State' ].unique())"
   ]
  },
  {
   "cell_type": "code",
   "execution_count": 20,
   "id": "f3cae540-83c5-4a8f-969b-0950dec4a6af",
   "metadata": {},
   "outputs": [
    {
     "data": {
      "text/html": [
       "<div>\n",
       "<style scoped>\n",
       "    .dataframe tbody tr th:only-of-type {\n",
       "        vertical-align: middle;\n",
       "    }\n",
       "\n",
       "    .dataframe tbody tr th {\n",
       "        vertical-align: top;\n",
       "    }\n",
       "\n",
       "    .dataframe thead th {\n",
       "        text-align: right;\n",
       "    }\n",
       "</style>\n",
       "<table border=\"1\" class=\"dataframe\">\n",
       "  <thead>\n",
       "    <tr style=\"text-align: right;\">\n",
       "      <th></th>\n",
       "      <th>R&amp;D Spend</th>\n",
       "      <th>Administration</th>\n",
       "      <th>Marketing Spend</th>\n",
       "      <th>State</th>\n",
       "      <th>Profit</th>\n",
       "    </tr>\n",
       "  </thead>\n",
       "  <tbody>\n",
       "    <tr>\n",
       "      <th>0</th>\n",
       "      <td>165349</td>\n",
       "      <td>136897</td>\n",
       "      <td>471784</td>\n",
       "      <td>2</td>\n",
       "      <td>192261</td>\n",
       "    </tr>\n",
       "    <tr>\n",
       "      <th>1</th>\n",
       "      <td>162597</td>\n",
       "      <td>151377</td>\n",
       "      <td>443898</td>\n",
       "      <td>0</td>\n",
       "      <td>191792</td>\n",
       "    </tr>\n",
       "    <tr>\n",
       "      <th>2</th>\n",
       "      <td>153441</td>\n",
       "      <td>101145</td>\n",
       "      <td>407934</td>\n",
       "      <td>1</td>\n",
       "      <td>191050</td>\n",
       "    </tr>\n",
       "    <tr>\n",
       "      <th>3</th>\n",
       "      <td>144372</td>\n",
       "      <td>118671</td>\n",
       "      <td>383199</td>\n",
       "      <td>2</td>\n",
       "      <td>182901</td>\n",
       "    </tr>\n",
       "    <tr>\n",
       "      <th>4</th>\n",
       "      <td>142107</td>\n",
       "      <td>91391</td>\n",
       "      <td>366168</td>\n",
       "      <td>1</td>\n",
       "      <td>166187</td>\n",
       "    </tr>\n",
       "  </tbody>\n",
       "</table>\n",
       "</div>"
      ],
      "text/plain": [
       "   R&D Spend  Administration  Marketing Spend  State  Profit\n",
       "0     165349          136897           471784      2  192261\n",
       "1     162597          151377           443898      0  191792\n",
       "2     153441          101145           407934      1  191050\n",
       "3     144372          118671           383199      2  182901\n",
       "4     142107           91391           366168      1  166187"
      ]
     },
     "execution_count": 20,
     "metadata": {},
     "output_type": "execute_result"
    }
   ],
   "source": [
    "df.head()"
   ]
  },
  {
   "cell_type": "markdown",
   "id": "ecec54f7-1fc6-44ad-8163-fea2fa0c28b7",
   "metadata": {},
   "source": [
    "**Skewness Handling**"
   ]
  },
  {
   "cell_type": "markdown",
   "id": "29a1d05f-241d-468e-b15b-9a409d1943de",
   "metadata": {},
   "source": [
    "- Reduce or remove the skewness for only those column whose correlation with the target is not good"
   ]
  },
  {
   "cell_type": "code",
   "execution_count": 21,
   "id": "c36bdfbc-ddb5-4a2f-955e-2dec7c764dff",
   "metadata": {},
   "outputs": [],
   "source": [
    "from scipy.stats import skew"
   ]
  },
  {
   "cell_type": "code",
   "execution_count": 22,
   "id": "720d6567-74f5-4147-804d-68ac975fa625",
   "metadata": {},
   "outputs": [
    {
     "name": "stdout",
     "output_type": "stream",
     "text": [
      "R&D Spend\n",
      "0.15904508687285582\n"
     ]
    },
    {
     "name": "stderr",
     "output_type": "stream",
     "text": [
      "C:\\Users\\91705\\anaconda3\\lib\\site-packages\\seaborn\\distributions.py:2619: FutureWarning: `distplot` is a deprecated function and will be removed in a future version. Please adapt your code to use either `displot` (a figure-level function with similar flexibility) or `histplot` (an axes-level function for histograms).\n",
      "  warnings.warn(msg, FutureWarning)\n"
     ]
    },
    {
     "data": {
      "image/png": "[encoded data removed]",
      "text/plain": [
       "<Figure size 432x288 with 1 Axes>"
      ]
     },
     "metadata": {},
     "output_type": "display_data"
    },
    {
     "name": "stdout",
     "output_type": "stream",
     "text": [
      "Administration\n",
      "-0.47422885651214824\n"
     ]
    },
    {
     "name": "stderr",
     "output_type": "stream",
     "text": [
      "C:\\Users\\91705\\anaconda3\\lib\\site-packages\\seaborn\\distributions.py:2619: FutureWarning: `distplot` is a deprecated function and will be removed in a future version. Please adapt your code to use either `displot` (a figure-level function with similar flexibility) or `histplot` (an axes-level function for histograms).\n",
      "  warnings.warn(msg, FutureWarning)\n"
     ]
    },
    {
     "data": {
      "image/png": "[encoded data removed]",
      "text/plain": [
       "<Figure size 432x288 with 1 Axes>"
      ]
     },
     "metadata": {},
     "output_type": "display_data"
    },
    {
     "name": "stdout",
     "output_type": "stream",
     "text": [
      "Marketing Spend\n",
      "-0.0450639875390879\n"
     ]
    },
    {
     "name": "stderr",
     "output_type": "stream",
     "text": [
      "C:\\Users\\91705\\anaconda3\\lib\\site-packages\\seaborn\\distributions.py:2619: FutureWarning: `distplot` is a deprecated function and will be removed in a future version. Please adapt your code to use either `displot` (a figure-level function with similar flexibility) or `histplot` (an axes-level function for histograms).\n",
      "  warnings.warn(msg, FutureWarning)\n"
     ]
    },
    {
     "data": {
      "image/png": "[encoded data removed]",
      "text/plain": [
       "<Figure size 432x288 with 1 Axes>"
      ]
     },
     "metadata": {},
     "output_type": "display_data"
    },
    {
     "name": "stdout",
     "output_type": "stream",
     "text": [
      "State\n",
      "0.0\n"
     ]
    },
    {
     "name": "stderr",
     "output_type": "stream",
     "text": [
      "C:\\Users\\91705\\anaconda3\\lib\\site-packages\\seaborn\\distributions.py:2619: FutureWarning: `distplot` is a deprecated function and will be removed in a future version. Please adapt your code to use either `displot` (a figure-level function with similar flexibility) or `histplot` (an axes-level function for histograms).\n",
      "  warnings.warn(msg, FutureWarning)\n"
     ]
    },
    {
     "data": {
      "image/png": "[encoded data removed]",
      "text/plain": [
       "<Figure size 432x288 with 1 Axes>"
      ]
     },
     "metadata": {},
     "output_type": "display_data"
    },
    {
     "name": "stdout",
     "output_type": "stream",
     "text": [
      "Profit\n",
      "0.022585452555172705\n"
     ]
    },
    {
     "name": "stderr",
     "output_type": "stream",
     "text": [
      "C:\\Users\\91705\\anaconda3\\lib\\site-packages\\seaborn\\distributions.py:2619: FutureWarning: `distplot` is a deprecated function and will be removed in a future version. Please adapt your code to use either `displot` (a figure-level function with similar flexibility) or `histplot` (an axes-level function for histograms).\n",
      "  warnings.warn(msg, FutureWarning)\n"
     ]
    },
    {
     "data": {
      "image/png": "[encoded data removed]",
      "text/plain": [
       "<Figure size 432x288 with 1 Axes>"
      ]
     },
     "metadata": {},
     "output_type": "display_data"
    }
   ],
   "source": [
    "for col in df:\n",
    "    print(col)\n",
    "    print(skew(df[col]))\n",
    "    \n",
    "    plt.figure()\n",
    "    sns.distplot(df[col])\n",
    "    plt.show()"
   ]
  },
  {
   "cell_type": "markdown",
   "id": "8fe0eeb4-7442-47ea-8ff2-f84fda686976",
   "metadata": {},
   "source": [
    "- now here we can handle the skewness, but only those columns whose correlation is not good with our target column because when we handling the skewness it affects on the correlation."
   ]
  },
  {
   "cell_type": "code",
   "execution_count": 23,
   "id": "19a12395-c715-4a02-9425-0060a96d5194",
   "metadata": {},
   "outputs": [
    {
     "data": {
      "image/png": "[encoded data removed]",
      "text/plain": [
       "<Figure size 864x576 with 2 Axes>"
      ]
     },
     "metadata": {},
     "output_type": "display_data"
    }
   ],
   "source": [
    "plt.figure(figsize=(12,8))\n",
    "sns.heatmap(df.corr(),annot=True,fmt=\".2f\")\n",
    "plt.show()"
   ]
  },
  {
   "cell_type": "code",
   "execution_count": 24,
   "id": "f5608bde-e8aa-4688-bf62-3b0a432a8abc",
   "metadata": {},
   "outputs": [
    {
     "data": {
      "text/plain": [
       "<AxesSubplot:xlabel='R&D Spend', ylabel='Profit'>"
      ]
     },
     "execution_count": 24,
     "metadata": {},
     "output_type": "execute_result"
    },
    {
     "data": {
      "image/png": "[encoded data removed]",
      "text/plain": [
       "<Figure size 432x288 with 1 Axes>"
      ]
     },
     "metadata": {},
     "output_type": "display_data"
    }
   ],
   "source": [
    "sns.scatterplot(data=df,x='R&D Spend',y=\"Profit\")"
   ]
  },
  {
   "cell_type": "markdown",
   "id": "f3884f02-f5a2-41ca-8c9d-2104b0734660",
   "metadata": {},
   "source": [
    "- Now our data is clean and prepare,So our data is ready to apply the Machine Learning Algorithm "
   ]
  },
  {
   "cell_type": "markdown",
   "id": "1ffe51b4-3bef-4780-8a35-1ff51d41c2a0",
   "metadata": {},
   "source": [
    "**Here Our target variable is \"Profit\" and feature is \"R&D Spend\".**"
   ]
  },
  {
   "cell_type": "markdown",
   "id": "4ce17e51-ef14-4e7c-8a0c-92ee47e0aec3",
   "metadata": {},
   "source": [
    "**Extracting dependent and independent Variables:**"
   ]
  },
  {
   "cell_type": "markdown",
   "id": "5b8e7ea2-df4f-4a50-bfb8-f62e7ed18283",
   "metadata": {},
   "source": [
    "<h2 style=\"color:orange\" > Model Building :</h2> \n",
    "\n",
    "- Linear Regression is a useful tool for predicting a quantitative response.\n",
    "- **Prediction using:** \n",
    "\n",
    "             1. Simple Linear Regression                                                                         \n",
    "             2. Multiple Linear Regression "
   ]
  },
  {
   "cell_type": "markdown",
   "id": "050eae52-8dde-49d4-9718-b04863c4b5c5",
   "metadata": {},
   "source": [
    "<h2 style='color:red'> Simple Linear Regression : </h2>"
   ]
  },
  {
   "cell_type": "markdown",
   "id": "115f2987-4c4e-4fa5-92bf-7d244af273f3",
   "metadata": {},
   "source": [
    "- Simple linear regression has only one x and one y variable. It is an approach for predicting a               quantitative response using a single feature. \n",
    "\n",
    "- It establishes the relationship between two variables using a straight line. Linear regression attempts to   draw a line that comes closest to the data by finding the slope and intercept that define the line and       minimize regression errors."
   ]
  },
  {
   "cell_type": "markdown",
   "id": "754f46f2-c12c-475e-adc8-5242811eb1d1",
   "metadata": {},
   "source": [
    "- **Extracting dependent and independent Variables:**"
   ]
  },
  {
   "cell_type": "code",
   "execution_count": 25,
   "id": "eea798b8-1bbc-4e4c-93a6-922736fd43ed",
   "metadata": {},
   "outputs": [],
   "source": [
    "# Independent variable\n",
    "X=df['R&D Spend'].values.reshape(-1,1)"
   ]
  },
  {
   "cell_type": "code",
   "execution_count": 26,
   "id": "38ee6aab-ee9e-4084-9c70-916c1a373c50",
   "metadata": {},
   "outputs": [],
   "source": [
    "# dependent variable\n",
    "y=df['Profit'].values"
   ]
  },
  {
   "cell_type": "code",
   "execution_count": 27,
   "id": "628d4a17-a191-4b1f-9882-c65ae7cb9338",
   "metadata": {},
   "outputs": [
    {
     "data": {
      "text/plain": [
       "50"
      ]
     },
     "execution_count": 27,
     "metadata": {},
     "output_type": "execute_result"
    }
   ],
   "source": [
    "X.size"
   ]
  },
  {
   "cell_type": "markdown",
   "id": "7cb24722-2389-4b38-8a98-2ea4da6a10c0",
   "metadata": {},
   "source": [
    "**Now we will split the dataset into training and test Dataset.**"
   ]
  },
  {
   "cell_type": "code",
   "execution_count": 28,
   "id": "2a63ee94-b938-4f0a-ae27-48b535b352aa",
   "metadata": {},
   "outputs": [],
   "source": [
    "# Splitting the dataset into training and test set.  \n",
    "from sklearn.model_selection import train_test_split\n",
    "from sklearn.linear_model import LinearRegression "
   ]
  },
  {
   "cell_type": "code",
   "execution_count": 29,
   "id": "d89ae2a7-c2aa-46f7-8f27-ad8f9d2861ab",
   "metadata": {},
   "outputs": [],
   "source": [
    "X_train, X_test, y_train, y_test= train_test_split(X, y, test_size= 0.2, random_state=0) "
   ]
  },
  {
   "cell_type": "markdown",
   "id": "e64d3e67-f2ab-4998-ae66-4d98af619cee",
   "metadata": {},
   "source": [
    "- Fitting the machine learning model to the training dataset."
   ]
  },
  {
   "cell_type": "code",
   "execution_count": 30,
   "id": "9ab49c7f-bef9-4351-8831-589384e4bf78",
   "metadata": {},
   "outputs": [
    {
     "data": {
      "text/plain": [
       "LinearRegression()"
      ]
     },
     "execution_count": 30,
     "metadata": {},
     "output_type": "execute_result"
    }
   ],
   "source": [
    "Sreg= LinearRegression() \n",
    "Sreg.fit(X_train, y_train)"
   ]
  },
  {
   "cell_type": "markdown",
   "id": "085c5d58-1966-4f6a-bb95-62c38835c10e",
   "metadata": {},
   "source": [
    "- Now, we have successfully trained our model using the training dataset.\n",
    "- we will test the performance of the model using the test dataset."
   ]
  },
  {
   "cell_type": "code",
   "execution_count": 31,
   "id": "690c36fa-60c7-40b0-a39b-4149b4ee8a59",
   "metadata": {},
   "outputs": [],
   "source": [
    "#Predicting the Test Dataset result;  \n",
    "y_test_pred= Sreg.predict(X_test)\n",
    "y_train_pred=Sreg.predict(X_train)"
   ]
  },
  {
   "cell_type": "markdown",
   "id": "80336d8b-8330-4c52-8fbd-2fe7fe8610d1",
   "metadata": {},
   "source": [
    "**Now we calculate the Model intercept and coefficient**"
   ]
  },
  {
   "cell_type": "code",
   "execution_count": 33,
   "id": "93536f62-5de6-442c-b04a-2d838babfd5a",
   "metadata": {},
   "outputs": [
    {
     "name": "stdout",
     "output_type": "stream",
     "text": [
      "Intercept:  48416.14326129784\n",
      "Coefficient: [0.85162306]\n"
     ]
    }
   ],
   "source": [
    "# printing the model intercept and coefficient\n",
    "Sreg.intercept_\n",
    "Sreg.coef_\n",
    "print('Intercept: ', Sreg.intercept_)\n",
    "print('Coefficient:',Sreg.coef_)"
   ]
  },
  {
   "cell_type": "code",
   "execution_count": 34,
   "id": "3350f70f-7027-4add-825e-eb6b325877c5",
   "metadata": {},
   "outputs": [
    {
     "name": "stderr",
     "output_type": "stream",
     "text": [
      "C:\\Users\\91705\\anaconda3\\lib\\site-packages\\seaborn\\_decorators.py:36: FutureWarning: Pass the following variables as keyword args: x, y. From version 0.12, the only valid positional argument will be `data`, and passing other arguments without an explicit keyword will result in an error or misinterpretation.\n",
      "  warnings.warn(\n"
     ]
    },
    {
     "data": {
      "image/png": "[encoded data removed]",
      "text/plain": [
       "<Figure size 576x360 with 1 Axes>"
      ]
     },
     "metadata": {},
     "output_type": "display_data"
    }
   ],
   "source": [
    "#line of best fit\n",
    "plt.figure(figsize=(8,5));\n",
    "sns.regplot(X,y);\n",
    "plt.xlabel('R&D Spend')\n",
    "plt.ylabel(\"Profit\")\n",
    "plt.show()"
   ]
  },
  {
   "cell_type": "code",
   "execution_count": 35,
   "id": "f745cfd0-82c9-40ee-a1e2-192068895172",
   "metadata": {},
   "outputs": [
    {
     "name": "stdout",
     "output_type": "stream",
     "text": [
      "Prediction for test set: [104666.69785247 134149.88811373 135207.60395153  72169.61358964\n",
      " 179090.03687418 109824.12709055  65643.62609766 100480.97052335\n",
      " 111431.13980063 169437.741137  ]\n"
     ]
    }
   ],
   "source": [
    "# prediction for training and testing dataset\n",
    "print(\"Prediction for test set: {}\".format(y_test_pred))"
   ]
  },
  {
   "cell_type": "code",
   "execution_count": 36,
   "id": "1e3b5332-b0b8-4ccc-9f05-de0d5b2738d7",
   "metadata": {},
   "outputs": [
    {
     "name": "stdout",
     "output_type": "stream",
     "text": [
      "Prediction for train set: [ 95675.26160815  87602.7266432  112567.20495974  87953.59534302\n",
      " 126551.70719198 159380.92444736 150562.36768378  49267.7663191\n",
      "  48877.72295863 104286.87396869 145946.57071047 101211.66310695\n",
      " 102415.85811069 114853.81286995  68548.51234784 113354.95628821\n",
      "  61620.55877259 151072.4898954  126758.65159503 103485.49667129\n",
      " 160724.78563258 129028.22704408  72903.71266546  48416.1432613\n",
      " 186887.49759145 128352.03833619  85946.31979577 114028.59012694\n",
      " 163057.38118791 105927.95160108  72826.2149672  115174.02313969\n",
      " 122012.55629387 153450.2214728   81253.0251242   49536.02758231\n",
      " 171366.66736293 189231.16424654  48416.1432613   67302.58781427]\n"
     ]
    }
   ],
   "source": [
    "print(\"Prediction for train set: {}\".format(y_train_pred))"
   ]
  },
  {
   "cell_type": "code",
   "execution_count": 37,
   "id": "6ee56820-87af-482a-ab69-49c449151025",
   "metadata": {},
   "outputs": [
    {
     "data": {
      "text/html": [
       "<div>\n",
       "<style scoped>\n",
       "    .dataframe tbody tr th:only-of-type {\n",
       "        vertical-align: middle;\n",
       "    }\n",
       "\n",
       "    .dataframe tbody tr th {\n",
       "        vertical-align: top;\n",
       "    }\n",
       "\n",
       "    .dataframe thead th {\n",
       "        text-align: right;\n",
       "    }\n",
       "</style>\n",
       "<table border=\"1\" class=\"dataframe\">\n",
       "  <thead>\n",
       "    <tr style=\"text-align: right;\">\n",
       "      <th></th>\n",
       "      <th>Actual value</th>\n",
       "      <th>Predicted value</th>\n",
       "    </tr>\n",
       "  </thead>\n",
       "  <tbody>\n",
       "    <tr>\n",
       "      <th>0</th>\n",
       "      <td>103282</td>\n",
       "      <td>104666.697852</td>\n",
       "    </tr>\n",
       "    <tr>\n",
       "      <th>1</th>\n",
       "      <td>144259</td>\n",
       "      <td>134149.888114</td>\n",
       "    </tr>\n",
       "    <tr>\n",
       "      <th>2</th>\n",
       "      <td>146121</td>\n",
       "      <td>135207.603952</td>\n",
       "    </tr>\n",
       "    <tr>\n",
       "      <th>3</th>\n",
       "      <td>77798</td>\n",
       "      <td>72169.613590</td>\n",
       "    </tr>\n",
       "    <tr>\n",
       "      <th>4</th>\n",
       "      <td>191050</td>\n",
       "      <td>179090.036874</td>\n",
       "    </tr>\n",
       "    <tr>\n",
       "      <th>5</th>\n",
       "      <td>105008</td>\n",
       "      <td>109824.127091</td>\n",
       "    </tr>\n",
       "    <tr>\n",
       "      <th>6</th>\n",
       "      <td>81229</td>\n",
       "      <td>65643.626098</td>\n",
       "    </tr>\n",
       "    <tr>\n",
       "      <th>7</th>\n",
       "      <td>97483</td>\n",
       "      <td>100480.970523</td>\n",
       "    </tr>\n",
       "    <tr>\n",
       "      <th>8</th>\n",
       "      <td>110352</td>\n",
       "      <td>111431.139801</td>\n",
       "    </tr>\n",
       "    <tr>\n",
       "      <th>9</th>\n",
       "      <td>166187</td>\n",
       "      <td>169437.741137</td>\n",
       "    </tr>\n",
       "  </tbody>\n",
       "</table>\n",
       "</div>"
      ],
      "text/plain": [
       "   Actual value  Predicted value\n",
       "0        103282    104666.697852\n",
       "1        144259    134149.888114\n",
       "2        146121    135207.603952\n",
       "3         77798     72169.613590\n",
       "4        191050    179090.036874\n",
       "5        105008    109824.127091\n",
       "6         81229     65643.626098\n",
       "7         97483    100480.970523\n",
       "8        110352    111431.139801\n",
       "9        166187    169437.741137"
      ]
     },
     "execution_count": 37,
     "metadata": {},
     "output_type": "execute_result"
    }
   ],
   "source": [
    "#Actual values and predicted values\n",
    "val_diff = pd.DataFrame({'Actual value': y_test, 'Predicted value': y_test_pred})\n",
    "val_diff"
   ]
  },
  {
   "cell_type": "code",
   "execution_count": 38,
   "id": "24580e74-ab32-44c6-88f8-b746972ccfcc",
   "metadata": {},
   "outputs": [
    {
     "name": "stdout",
     "output_type": "stream",
     "text": [
      "R squared value of the simple_model: 94.61\n"
     ]
    }
   ],
   "source": [
    "# print the R-squared value for the model\n",
    "from sklearn.metrics import accuracy_score\n",
    "print('R squared value of the simple_model: {:.2f}'.format(Sreg.score(X,y)*100))"
   ]
  },
  {
   "cell_type": "markdown",
   "id": "edb96a64-d0f1-4169-9357-5787c93192cd",
   "metadata": {},
   "source": [
    "<h2 style='color:green'> Evaluation Metrics : </h2>"
   ]
  },
  {
   "cell_type": "markdown",
   "id": "6ce17e1a-3530-464a-99c6-c095738461d8",
   "metadata": {},
   "source": [
    "**print the R2 and MSE values for the model**"
   ]
  },
  {
   "cell_type": "markdown",
   "id": "2a114f6c-b998-44b1-b9e4-f789818d264a",
   "metadata": {},
   "source": [
    "- **FOR MSE :**"
   ]
  },
  {
   "cell_type": "code",
   "execution_count": 39,
   "id": "423368a9-44be-4225-a121-64d78853e324",
   "metadata": {},
   "outputs": [],
   "source": [
    "from sklearn.metrics import *"
   ]
  },
  {
   "cell_type": "code",
   "execution_count": 40,
   "id": "cc688b2a-128f-4270-aa80-52fb99d9fddd",
   "metadata": {},
   "outputs": [
    {
     "name": "stdout",
     "output_type": "stream",
     "text": [
      "MSE_train_set 90128482.36572275\n",
      "MSE_test_set 68475184.38738039\n"
     ]
    }
   ],
   "source": [
    "Simple_MSE=mean_squared_error(y_train,y_train_pred)\n",
    "print('MSE_train_set',Simple_MSE)\n",
    "\n",
    "Simple_mse=mean_squared_error(y_test,y_test_pred)\n",
    "print('MSE_test_set',Simple_mse)"
   ]
  },
  {
   "cell_type": "markdown",
   "id": "5a24c632-a423-4c57-a99f-887f614c86e2",
   "metadata": {},
   "source": [
    "- **FOR R2 :**"
   ]
  },
  {
   "cell_type": "code",
   "execution_count": 41,
   "id": "ddc58fa5-bcd3-4b93-b7ff-16a341f10dfd",
   "metadata": {},
   "outputs": [
    {
     "name": "stdout",
     "output_type": "stream",
     "text": [
      "r2_score_train : 0.9449586989676767\n",
      "r2_score_test : 0.9464571400905005\n"
     ]
    }
   ],
   "source": [
    "Simple_R2=r2_score(y_train,y_train_pred)\n",
    "print('r2_score_train :',Simple_R2)\n",
    "\n",
    "Simple_r2=r2_score(y_test,y_test_pred)\n",
    "print('r2_score_test :',Simple_r2)"
   ]
  },
  {
   "cell_type": "markdown",
   "id": "b347fcf1-f99e-4794-99ef-a822fba4a977",
   "metadata": {},
   "source": [
    "- **According to the R2 squared_score 94.64% of data fit the simple linear regression model**"
   ]
  },
  {
   "cell_type": "markdown",
   "id": "26f0f8e5-6fa3-4ecd-9d74-28ae592a434a",
   "metadata": {},
   "source": [
    "<h2 style=\"color:olive\"> Apply Regularization for more accuraccy :</h2>\n",
    "\n",
    "- **Using Lasso Regression Model(L1 Regularization) :**"
   ]
  },
  {
   "cell_type": "code",
   "execution_count": 42,
   "id": "8d21c9fe-f539-4e30-99f5-c7b9f7f958cd",
   "metadata": {},
   "outputs": [
    {
     "data": {
      "text/plain": [
       "Lasso(alpha=50, max_iter=100, tol=0.1)"
      ]
     },
     "execution_count": 42,
     "metadata": {},
     "output_type": "execute_result"
    }
   ],
   "source": [
    "from sklearn import linear_model\n",
    "S_lasso_reg = linear_model.Lasso(alpha=50, max_iter=100, tol=0.1)\n",
    "S_lasso_reg.fit(X_train, y_train)"
   ]
  },
  {
   "cell_type": "code",
   "execution_count": 43,
   "id": "ca678432-5543-4aef-9f2d-3e64447054f3",
   "metadata": {},
   "outputs": [
    {
     "name": "stdout",
     "output_type": "stream",
     "text": [
      "S_Lasso_Regression_train_score : 0.944958698967676\n",
      "S_Lasso_Regression_test_score : 0.946457138774222\n"
     ]
    }
   ],
   "source": [
    "print(\"S_Lasso_Regression_train_score :\",S_lasso_reg.score(X_train, y_train))\n",
    "print(\"S_Lasso_Regression_test_score :\",S_lasso_reg.score(X_test, y_test))"
   ]
  },
  {
   "cell_type": "markdown",
   "id": "348d17cc-c0fe-4eb3-8041-d1ba4a94e49b",
   "metadata": {},
   "source": [
    "- **Using Ridge Regression Model (L2 Regularization):**"
   ]
  },
  {
   "cell_type": "code",
   "execution_count": 44,
   "id": "d49ef534-77cc-4920-a479-93a9b2a510b1",
   "metadata": {},
   "outputs": [
    {
     "data": {
      "text/plain": [
       "Ridge(alpha=50, max_iter=100, tol=0.1)"
      ]
     },
     "execution_count": 44,
     "metadata": {},
     "output_type": "execute_result"
    }
   ],
   "source": [
    "from sklearn.linear_model import Ridge\n",
    "S_ridge_reg= Ridge(alpha=50, max_iter=100, tol=0.1)\n",
    "S_ridge_reg.fit(X_train, y_train)"
   ]
  },
  {
   "cell_type": "code",
   "execution_count": 45,
   "id": "298b7d0a-362e-4380-bb0a-8df9fb3fcc6e",
   "metadata": {},
   "outputs": [
    {
     "name": "stdout",
     "output_type": "stream",
     "text": [
      "S_Ridge_regression_test_score : 0.946457140062476\n",
      "S_Ridge_regression_train_score : 0.9449586989676767\n"
     ]
    }
   ],
   "source": [
    "print (\"S_Ridge_regression_test_score :\",S_ridge_reg.score(X_test,y_test))\n",
    "print(\"S_Ridge_regression_train_score :\",S_ridge_reg.score(X_train,y_train))"
   ]
  },
  {
   "cell_type": "markdown",
   "id": "8adcbbc4-0386-491b-bec4-b15ce0a08796",
   "metadata": {},
   "source": [
    "- **We see that Lasso And Ridge prove to be beneficial when our Simple Linear       Regression Model is not perform good,they gives more accuracy than simple Linear Regression**"
   ]
  },
  {
   "cell_type": "markdown",
   "id": "e2b3730e-91fa-4794-8127-4364566c395a",
   "metadata": {},
   "source": [
    "<h2 style='color:maroon'> Multiple Linear Regression : </h2>"
   ]
  },
  {
   "cell_type": "markdown",
   "id": "72b3b911-7483-4ef8-b821-c5ba77565ea8",
   "metadata": {},
   "source": [
    "- Multiple linear regression has **one y and two or more x variables.** It is an extension of Simple Linear   regression as it takes more than one predictor variable to predict the response variable.\n",
    "\n",
    "- Multiple Linear Regression is one of the important regression algorithms which models the linear             relationship between a single dependent continuous variable and more than one independent variable. \n",
    "\n",
    "- **Assumptions for Multiple Linear Regression:**                                                                    \n",
    "    1. A linear relationship should exist between the Target and predictor variables.\n",
    "    2. The regression residuals must be normally distributed. \n",
    "    3. MLR assumes little or no multicollinearity (correlation between the independent variable) in data."
   ]
  },
  {
   "cell_type": "markdown",
   "id": "65ab9951-b040-4723-9313-2f398cc83855",
   "metadata": {},
   "source": [
    "- **Selecting X and Y for Multiple linear regression :**"
   ]
  },
  {
   "cell_type": "code",
   "execution_count": 46,
   "id": "f690da4a-5abf-4284-a20a-517d2ac9ed32",
   "metadata": {},
   "outputs": [],
   "source": [
    "X=df[['R&D Spend','Marketing Spend']] # independent variable\n",
    "y =df['Profit'] # dependent variable"
   ]
  },
  {
   "cell_type": "code",
   "execution_count": 47,
   "id": "68cabff8-61b0-493f-9760-a522731d5ab5",
   "metadata": {},
   "outputs": [
    {
     "data": {
      "text/html": [
       "<div>\n",
       "<style scoped>\n",
       "    .dataframe tbody tr th:only-of-type {\n",
       "        vertical-align: middle;\n",
       "    }\n",
       "\n",
       "    .dataframe tbody tr th {\n",
       "        vertical-align: top;\n",
       "    }\n",
       "\n",
       "    .dataframe thead th {\n",
       "        text-align: right;\n",
       "    }\n",
       "</style>\n",
       "<table border=\"1\" class=\"dataframe\">\n",
       "  <thead>\n",
       "    <tr style=\"text-align: right;\">\n",
       "      <th></th>\n",
       "      <th>R&amp;D Spend</th>\n",
       "      <th>Marketing Spend</th>\n",
       "    </tr>\n",
       "  </thead>\n",
       "  <tbody>\n",
       "  </tbody>\n",
       "</table>\n",
       "</div>"
      ],
      "text/plain": [
       "Empty DataFrame\n",
       "Columns: [R&D Spend, Marketing Spend]\n",
       "Index: []"
      ]
     },
     "execution_count": 47,
     "metadata": {},
     "output_type": "execute_result"
    }
   ],
   "source": [
    "X.head(0)"
   ]
  },
  {
   "cell_type": "code",
   "execution_count": 48,
   "id": "84637740-18e7-4094-9500-d53a654b0192",
   "metadata": {},
   "outputs": [],
   "source": [
    "X_train, X_test, y_train, y_test= train_test_split(X, y, test_size= 0.2, random_state=2) "
   ]
  },
  {
   "cell_type": "code",
   "execution_count": 49,
   "id": "83d1eeef-8466-478e-b77b-ff679df7a003",
   "metadata": {},
   "outputs": [
    {
     "data": {
      "text/plain": [
       "LinearRegression()"
      ]
     },
     "execution_count": 49,
     "metadata": {},
     "output_type": "execute_result"
    }
   ],
   "source": [
    "mlr= LinearRegression()\n",
    "mlr.fit(X_train, y_train)"
   ]
  },
  {
   "cell_type": "code",
   "execution_count": 50,
   "id": "bc4de4ca-9050-45df-a5c3-1e671dce1931",
   "metadata": {},
   "outputs": [],
   "source": [
    "#Predicting the Test Dataset result;  \n",
    "y_test_pred= mlr.predict(X_test)\n",
    "y_train_pred=mlr.predict(X_train)"
   ]
  },
  {
   "cell_type": "code",
   "execution_count": 51,
   "id": "d683c939-eed1-4c28-ba94-d319a6cd8fe5",
   "metadata": {},
   "outputs": [
    {
     "name": "stdout",
     "output_type": "stream",
     "text": [
      "Prediction for test set: [ 76005.27450761  46979.75247498 103003.06898616 154243.53849332\n",
      " 127777.62450768 192762.97889474  65433.33513442  57367.553701\n",
      "  83019.37232629 110046.47360071]\n"
     ]
    }
   ],
   "source": [
    "print(\"Prediction for test set: {}\".format(y_test_pred))"
   ]
  },
  {
   "cell_type": "code",
   "execution_count": 52,
   "id": "9c2a9c93-8cbe-4d7e-a49e-90393973ac19",
   "metadata": {},
   "outputs": [
    {
     "data": {
      "text/html": [
       "<div>\n",
       "<style scoped>\n",
       "    .dataframe tbody tr th:only-of-type {\n",
       "        vertical-align: middle;\n",
       "    }\n",
       "\n",
       "    .dataframe tbody tr th {\n",
       "        vertical-align: top;\n",
       "    }\n",
       "\n",
       "    .dataframe thead th {\n",
       "        text-align: right;\n",
       "    }\n",
       "</style>\n",
       "<table border=\"1\" class=\"dataframe\">\n",
       "  <thead>\n",
       "    <tr style=\"text-align: right;\">\n",
       "      <th></th>\n",
       "      <th>Actual value</th>\n",
       "      <th>Predicted value</th>\n",
       "    </tr>\n",
       "  </thead>\n",
       "  <tbody>\n",
       "    <tr>\n",
       "      <th>36</th>\n",
       "      <td>90708</td>\n",
       "      <td>76005.274508</td>\n",
       "    </tr>\n",
       "    <tr>\n",
       "      <th>47</th>\n",
       "      <td>42559</td>\n",
       "      <td>46979.752475</td>\n",
       "    </tr>\n",
       "    <tr>\n",
       "      <th>28</th>\n",
       "      <td>103282</td>\n",
       "      <td>103003.068986</td>\n",
       "    </tr>\n",
       "    <tr>\n",
       "      <th>9</th>\n",
       "      <td>149759</td>\n",
       "      <td>154243.538493</td>\n",
       "    </tr>\n",
       "    <tr>\n",
       "      <th>13</th>\n",
       "      <td>134307</td>\n",
       "      <td>127777.624508</td>\n",
       "    </tr>\n",
       "    <tr>\n",
       "      <th>0</th>\n",
       "      <td>192261</td>\n",
       "      <td>192762.978895</td>\n",
       "    </tr>\n",
       "    <tr>\n",
       "      <th>44</th>\n",
       "      <td>65200</td>\n",
       "      <td>65433.335134</td>\n",
       "    </tr>\n",
       "    <tr>\n",
       "      <th>46</th>\n",
       "      <td>49490</td>\n",
       "      <td>57367.553701</td>\n",
       "    </tr>\n",
       "    <tr>\n",
       "      <th>39</th>\n",
       "      <td>81005</td>\n",
       "      <td>83019.372326</td>\n",
       "    </tr>\n",
       "    <tr>\n",
       "      <th>23</th>\n",
       "      <td>108733</td>\n",
       "      <td>110046.473601</td>\n",
       "    </tr>\n",
       "  </tbody>\n",
       "</table>\n",
       "</div>"
      ],
      "text/plain": [
       "    Actual value  Predicted value\n",
       "36         90708     76005.274508\n",
       "47         42559     46979.752475\n",
       "28        103282    103003.068986\n",
       "9         149759    154243.538493\n",
       "13        134307    127777.624508\n",
       "0         192261    192762.978895\n",
       "44         65200     65433.335134\n",
       "46         49490     57367.553701\n",
       "39         81005     83019.372326\n",
       "23        108733    110046.473601"
      ]
     },
     "execution_count": 52,
     "metadata": {},
     "output_type": "execute_result"
    }
   ],
   "source": [
    "#Actual value and the predicted value\n",
    "mlr_diff = pd.DataFrame({'Actual value': y_test, 'Predicted value': y_test_pred})\n",
    "mlr_diff"
   ]
  },
  {
   "cell_type": "code",
   "execution_count": 53,
   "id": "9191566c-c8cd-41e3-a2a7-bd917dd4abc8",
   "metadata": {},
   "outputs": [
    {
     "name": "stdout",
     "output_type": "stream",
     "text": [
      "Intercept : 46979.752474982364\n"
     ]
    },
    {
     "data": {
      "text/plain": [
       "[('R&D Spend', 0.7919136315150218), ('Marketing Spend', 0.03145740288433233)]"
      ]
     },
     "execution_count": 53,
     "metadata": {},
     "output_type": "execute_result"
    }
   ],
   "source": [
    "# printing the model intercept and coefficient\n",
    "#Printing the model coefficients\n",
    "print(\"Intercept :\",mlr.intercept_)\n",
    "# pair the feature names with the coefficients\n",
    "list(zip(X, mlr.coef_))"
   ]
  },
  {
   "cell_type": "markdown",
   "id": "10576026-e9ff-4979-aa2a-5846be9f2fcc",
   "metadata": {},
   "source": [
    "### Performance Measures :"
   ]
  },
  {
   "cell_type": "markdown",
   "id": "e4fcf7e1-7d79-42ff-9ae8-5281e99c380d",
   "metadata": {},
   "source": [
    "- **FOR MSE :**"
   ]
  },
  {
   "cell_type": "code",
   "execution_count": 54,
   "id": "012b17a5-0c25-4c76-9e1b-8da9a1833d74",
   "metadata": {},
   "outputs": [
    {
     "name": "stdout",
     "output_type": "stream",
     "text": [
      "M_MSE_train_set 89471890.57820606\n",
      "M_MSE_test_set 36668001.08544352\n"
     ]
    }
   ],
   "source": [
    "M_MSE=mean_squared_error(y_train,y_train_pred)\n",
    "print('M_MSE_train_set',M_MSE)\n",
    "\n",
    "M_mse=mean_squared_error(y_test,y_test_pred)\n",
    "print('M_MSE_test_set',M_mse)"
   ]
  },
  {
   "cell_type": "markdown",
   "id": "88c4a950-8e95-4a84-bf98-658137117fb3",
   "metadata": {},
   "source": [
    "- **FOR R2 :**"
   ]
  },
  {
   "cell_type": "code",
   "execution_count": 55,
   "id": "9ca63ed8-9494-4ce8-b5b0-3144c0bc30d0",
   "metadata": {},
   "outputs": [
    {
     "name": "stdout",
     "output_type": "stream",
     "text": [
      "M_R2_train_set 0.938877264925646\n",
      "M_R2_test_set 0.9814160775648911\n"
     ]
    }
   ],
   "source": [
    "M_R2=r2_score(y_train,y_train_pred)\n",
    "print('M_R2_train_set',M_R2)\n",
    "\n",
    "M_r2=r2_score(y_test,y_test_pred)\n",
    "print('M_R2_test_set',M_r2)"
   ]
  },
  {
   "cell_type": "markdown",
   "id": "67dc52b4-9c32-4d73-8559-4c5979c33316",
   "metadata": {},
   "source": [
    "- **According to the R2 squared_score 95.09% of data fit the Multiple linear regression model**"
   ]
  },
  {
   "cell_type": "markdown",
   "id": "f8c6e83e-7947-4143-80a2-b2f95d6365af",
   "metadata": {},
   "source": [
    "<h2 style=\"color:red\">Regularization for Multiple Linear Regression :</h2>"
   ]
  },
  {
   "cell_type": "markdown",
   "id": "125713e2-a683-45bd-b0c9-4319a88cc394",
   "metadata": {},
   "source": [
    "- **Using Lasso Regression Model(L1 Regularization) :**"
   ]
  },
  {
   "cell_type": "code",
   "execution_count": 56,
   "id": "e0572c1e-a121-49e2-a1d8-1eba1da0d237",
   "metadata": {},
   "outputs": [
    {
     "data": {
      "text/plain": [
       "Lasso(alpha=50, max_iter=100, tol=0.1)"
      ]
     },
     "execution_count": 56,
     "metadata": {},
     "output_type": "execute_result"
    }
   ],
   "source": [
    "from sklearn import linear_model\n",
    "M_lasso_reg = linear_model.Lasso(alpha=50, max_iter=100, tol=0.1)\n",
    "M_lasso_reg.fit(X_train, y_train)"
   ]
  },
  {
   "cell_type": "code",
   "execution_count": 57,
   "id": "db56997b-6c14-4cfb-af96-e7307999527b",
   "metadata": {},
   "outputs": [
    {
     "name": "stdout",
     "output_type": "stream",
     "text": [
      "M_Lasso_Regression_train_score : 0.9381992992502024\n",
      "M_Lasso_Regression_test_score : 0.9812933516215776\n"
     ]
    }
   ],
   "source": [
    "print(\"M_Lasso_Regression_train_score :\",M_lasso_reg.score(X_train, y_train))\n",
    "print(\"M_Lasso_Regression_test_score :\",M_lasso_reg.score(X_test, y_test))"
   ]
  },
  {
   "cell_type": "markdown",
   "id": "35a6808a-8573-43b9-96e4-8b8e1dbbdb8b",
   "metadata": {},
   "source": [
    "- **Using Ridge Regression Model (L2 Regularization):**"
   ]
  },
  {
   "cell_type": "code",
   "execution_count": 58,
   "id": "6df0e2bf-03fe-4971-85ce-9033d3edb985",
   "metadata": {},
   "outputs": [
    {
     "data": {
      "text/plain": [
       "Ridge(alpha=50, max_iter=100, tol=0.1)"
      ]
     },
     "execution_count": 58,
     "metadata": {},
     "output_type": "execute_result"
    }
   ],
   "source": [
    "from sklearn.linear_model import Ridge\n",
    "M_ridge_reg= Ridge(alpha=50, max_iter=100, tol=0.1)\n",
    "M_ridge_reg.fit(X_train, y_train)"
   ]
  },
  {
   "cell_type": "code",
   "execution_count": 59,
   "id": "db2d8048-1fc1-4c16-8426-9e01756c7778",
   "metadata": {},
   "outputs": [
    {
     "name": "stdout",
     "output_type": "stream",
     "text": [
      "M_Ridge_regression_train_score : 0.938877264925646\n",
      "M_Ridge_regression_test_score : 0.9814160775387085\n"
     ]
    }
   ],
   "source": [
    "print (\"M_Ridge_regression_train_score :\",M_ridge_reg.score(X_train,y_train))\n",
    "print(\"M_Ridge_regression_test_score :\",M_ridge_reg.score(X_test,y_test))"
   ]
  },
  {
   "cell_type": "markdown",
   "id": "d94c1e6b-dd41-4e63-a699-d20daabe3437",
   "metadata": {},
   "source": [
    "## CONCLUSION :"
   ]
  },
  {
   "cell_type": "code",
   "execution_count": 60,
   "id": "998f7555-ae73-451a-87cc-17d16d826569",
   "metadata": {},
   "outputs": [
    {
     "name": "stdout",
     "output_type": "stream",
     "text": [
      "ALL RESULTS \n",
      "\n",
      "INTERCEPT AND COEFFICIENT OF SIMPLE LINEAR REGRESSION\n",
      "Intercept:  48416.14326129784\n",
      "Coefficient: [0.85162306]\n",
      "------------------------------------------------------------\n",
      "\n",
      "PERFORMANCE MEASURE FOR SIMPLE LINEAR REGRESSION\n",
      "MSE :\n",
      "MSE_train_set 90128482.36572275\n",
      "MSE_test_set 68475184.38738039 \n",
      "\n",
      "------------------------------------------------------------\n",
      "\n",
      "R2_SQUARED\n",
      "r2_score_train : 0.9449586989676767\n",
      "r2_score_test : 0.9464571400905005 \n",
      "\n",
      "----------------------------------------------------------------\n",
      "\n",
      "RESULT FOR MULTIPLE LINEAR REGRESSION\n",
      "PERFORMANCE MEASURE FOR MULTIPLE LINEAR REGRESSION\n",
      "MSE :\n",
      "M_MSE_train_set 89471890.57820606\n",
      "M_MSE_test_set 36668001.08544352 \n",
      "\n",
      "R2-SQUARED\n",
      "M_R2_train_set 0.938877264925646\n",
      "M_R2_test_set 0.9814160775648911\n",
      "----------------------------------------------------------------\n",
      "\n",
      "REGULARIZATION FOR MULTIPLE LINEAR REGRESSION\n",
      "M_Lasso_Regression_train_score : 0.9381992992502024\n",
      "M_Lasso_Regression_test_score : 0.9812933516215776 \n",
      "\n",
      "M_Ridge_regression_train_score : 0.938877264925646\n",
      "M_Ridge_regression_test_score : 0.9814160775387085 \n",
      "\n",
      "___________________________________________________________________________\n"
     ]
    }
   ],
   "source": [
    "print (\"ALL RESULTS \\n\")\n",
    "\n",
    "print(\"INTERCEPT AND COEFFICIENT OF SIMPLE LINEAR REGRESSION\")\n",
    "print('Intercept: ', Sreg.intercept_)\n",
    "print('Coefficient:',Sreg.coef_)\n",
    "\n",
    "print(\"------------------------------------------------------------\\n\")\n",
    "print(\"PERFORMANCE MEASURE FOR SIMPLE LINEAR REGRESSION\")\n",
    "print(\"MSE :\")\n",
    "print('MSE_train_set',Simple_MSE)\n",
    "print('MSE_test_set',Simple_mse,'\\n')\n",
    "\n",
    "print(\"------------------------------------------------------------\\n\")\n",
    "print(\"R2_SQUARED\")\n",
    "print('r2_score_train :',Simple_R2)\n",
    "print('r2_score_test :',Simple_r2,\"\\n\")\n",
    "\n",
    "print(\"----------------------------------------------------------------\\n\")\n",
    "print(\"RESULT FOR MULTIPLE LINEAR REGRESSION\")\n",
    "print(\"PERFORMANCE MEASURE FOR MULTIPLE LINEAR REGRESSION\")\n",
    "print(\"MSE :\")\n",
    "print('M_MSE_train_set',M_MSE)\n",
    "print('M_MSE_test_set',M_mse,'\\n')\n",
    "\n",
    "print(\"R2-SQUARED\")\n",
    "print('M_R2_train_set',M_R2)\n",
    "print('M_R2_test_set',M_r2,)\n",
    "\n",
    "print(\"----------------------------------------------------------------\\n\")\n",
    "print(\"REGULARIZATION FOR MULTIPLE LINEAR REGRESSION\")\n",
    "print(\"M_Lasso_Regression_train_score :\",M_lasso_reg.score(X_train, y_train))\n",
    "print(\"M_Lasso_Regression_test_score :\",M_lasso_reg.score(X_test, y_test),'\\n')\n",
    "print (\"M_Ridge_regression_train_score :\",M_ridge_reg.score(X_train,y_train))\n",
    "print(\"M_Ridge_regression_test_score :\",M_ridge_reg.score(X_test,y_test),'\\n')\n",
    "print(\"___________________________________________________________________________\")"
   ]
  },
  {
   "cell_type": "code",
   "execution_count": null,
   "id": "46ef0931-a268-464d-a1df-659dfa1cace1",
   "metadata": {},
   "outputs": [],
   "source": []
  }
 ],
 "metadata": {
  "kernelspec": {
   "display_name": "Python 3 (ipykernel)",
   "language": "python",
   "name": "python3"
  },
  "language_info": {
   "codemirror_mode": {
    "name": "ipython",
    "version": 3
   },
   "file_extension": ".py",
   "mimetype": "text/x-python",
   "name": "python",
   "nbconvert_exporter": "python",
   "pygments_lexer": "ipython3",
   "version": "3.9.7"
  }
 },
 "nbformat": 4,
 "nbformat_minor": 5
}
